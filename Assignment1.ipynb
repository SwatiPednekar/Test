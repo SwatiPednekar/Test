{
 "cells": [
  {
   "cell_type": "raw",
   "id": "406bace6-cef7-408d-afb4-0ce002a62543",
   "metadata": {},
   "source": [
    "1. In the below elements which of them are values or an expression? eg:- values can be\n",
    "integer or string and expressions will be mathematical operators.\n",
    "*\n",
    "'hello'\n",
    "-87.8\n",
    "-\n",
    "/\n",
    "+\n",
    "6\n",
    "\n",
    "\n",
    "Answer: \n",
    "Expression: *,-,/,+       (expression are the combination of operands and operator)\n",
    "Values: 'hello',-87.8     (Values are assign to variable)"
   ]
  },
  {
   "cell_type": "raw",
   "id": "157f0f36-719f-42da-857e-65a40547550d",
   "metadata": {},
   "source": [
    "2. What is the difference between string and variable?\n",
    "\n",
    "String : \n",
    "    1.It is a datatype in python \n",
    "    2.string is combination of alphabet, word, character\n",
    "    3.string is immutable datatype\n",
    "    4.A string is a type of information which we can store in variable.\n",
    "    e.g:  A = \"Swati\"\n",
    "    \n",
    "Variables:\n",
    "    1.In variable we can store information i.e we can assign values to varible \n",
    "    e.g: A= 10\n",
    "         A is a variable and 10 is assigned value.\n",
    "    "
   ]
  },
  {
   "cell_type": "raw",
   "id": "3969ef0e-a31a-426c-9975-dd7728157ee2",
   "metadata": {},
   "source": [
    "3. Describe three different data types.\n",
    "\n",
    "String :\n",
    "\n",
    "    1.A string is a sequence of characters.\n",
    "    2.A character is simply a symbol. For example, the English language has 26 characters.\n",
    "    \n",
    "    3.Computers do not deal with characters, they deal with numbers (binary). Even though you may see      characters       on your screen, internally it is stored and manipulated as a combination of 0s and 1s. This conversion of       character to a number is called encoding, and the reverse process is decoding. ASCII and Unicode are some       of the popular encodings used.\n",
    "\n",
    "    4.Strings are ordered thus help in indexing\n",
    "    5.Strings are immutable\n",
    "    6.Representation of String is in \" \"\n",
    "\n",
    "List:\n",
    "\n",
    "    1.List is mutable datatype\n",
    "    2.List is a collection of seqence wchich are ordered and changeble. \n",
    "    3.It allows duplicate memebers.\n",
    "    4.represented by square brackets [ ]\n",
    "        \n",
    "    Example: My_List=[1,-1,0.01,0+j,\"Maya\",[1,2,3]]\n",
    " \n",
    "Dictionary: \n",
    "    \n",
    "    1.{Key:Value}\n",
    "    2.Mutable because its changeble.\n",
    "    3.unorded collection of items.\n",
    "    4.indexing (We can fetch value from keys [])\n",
    "    5.Has a key/value pair.\n",
    "    6.key has to be unique and cant be dulicated.\n",
    "    7.key(cant be duplicated and should be of imutable data type)\n",
    "    8.value(duplicated and can be imutable or mutable data type\n",
    "    \n",
    "    Example: ipl={\"Name\":\"Virat\", \"Team\":\"RCB\", \"Runs\":1000}\n",
    "\n"
   ]
  },
  {
   "cell_type": "raw",
   "id": "e3bb6bd0-62c2-4848-a906-e0c8747f99bb",
   "metadata": {},
   "source": [
    "4. What is an expression made up of? What do all expressions do?\n",
    "\n",
    "Answer : \n",
    "Experssion: In python expression is combination of operand and operator.\n",
    "            An example of expression can be : x = x + 1 0 x = x + 10 x=x+10.\n",
    "            \n",
    "            All experession has a specific operations,Expressions help us in solving word problems. Math expressions are formed using the words of a problem."
   ]
  },
  {
   "cell_type": "raw",
   "id": "f1269393-bde2-42c3-ade0-c92b935a7f86",
   "metadata": {},
   "source": [
    "5. This assignment statements, like spam = 10. What is the difference between an\n",
    "expression and a statement?\n",
    "\n",
    "Answer : Expressions can be assigned or used as operands, while statements can only be declared\n",
    "         Given statement :\n",
    "         \n",
    "         Spam = 10\n",
    "         from above code, Spam, = and 10 are expressions because each of them has a definite and unique meaning or value. But if we take all of them together Spam = 10 - then we have a statement.\n",
    "         \n",
    "         \n"
   ]
  },
  {
   "cell_type": "raw",
   "id": "8034d085-a5c0-417d-853b-f0d4672f4884",
   "metadata": {},
   "source": [
    "6. After running the following code, what does the variable bacon contain?\n",
    "bacon = 22\n",
    "bacon + 1\n",
    "\n",
    "Output :23\n",
    "\n",
    "\n",
    "As the value 22 is stored in bacon hecne bacon is 22 then we are adding 1 in bacon , its previous stored value is 22, 22+1  hence we are getting output as 23"
   ]
  },
  {
   "cell_type": "raw",
   "id": "25193e63-11f1-43c4-8bbb-b129d6a87001",
   "metadata": {},
   "source": [
    "\n",
    "7. What should the values of the following two terms be?\n",
    "\n",
    "1.'spam' + 'spamspam'\n",
    "2.'spam'*3\n",
    "\n",
    "output :\n",
    "1.'spamspamspam'\n",
    "2.'spamspamspam'"
   ]
  },
  {
   "cell_type": "raw",
   "id": "f9f6414a-3b00-4e98-9b33-ec5d9d039dc0",
   "metadata": {},
   "source": [
    "8. Why is eggs a valid variable name while 100 is invalid?\n",
    "\n",
    "As per the nameing convension of variable:\n",
    "    A variable name must start with a letter or the underscore character. \n",
    "    A variable name cannot start with a number.\n",
    "    A variable name can only contain alpha-numeric characters and underscores (A-z, 0-9, and _ )\n",
    "    \n",
    "    hence eggs os valid variable and 100 is invalid"
   ]
  },
  {
   "cell_type": "raw",
   "id": "f06d482f-f2a6-43b4-b2b4-e5479da8cec4",
   "metadata": {},
   "source": [
    "9.What three functions can be used to get the integer, floating-point number, or string\n",
    "version of a value?\n",
    "\n",
    "Answer: int(), str(), float()\n"
   ]
  },
  {
   "cell_type": "raw",
   "id": "e39a6e06-08bf-45ba-8126-8c543eb6c8d2",
   "metadata": {},
   "source": [
    "10. Why does this expression cause an error? How can you fix it?\n",
    "'I have eaten' + 99 + 'burritos.'\n",
    "\n",
    "Answer: output will be an error as we can only concatenate str to str as we can see there is integer in between \n",
    "two atrings hence we are getting error\n",
    "\n",
    "---------------------------------------------------------------------------\n",
    "TypeError                                 Traceback (most recent call last)\n",
    "Cell In [6], line 1\n",
    "----> 1 'I have eaten' + 99 + 'burritos.'\n",
    "\n",
    "TypeError: can only concatenate str (not \"int\") to str\n",
    "\n",
    "\n",
    "the correct way to concatenate string:\n",
    "\n",
    "'I have eaten' + '99' + 'burritos.'"
   ]
  },
  {
   "cell_type": "code",
   "execution_count": null,
   "id": "160eef41-a26d-451b-836b-1ecd78320b36",
   "metadata": {},
   "outputs": [],
   "source": []
  },
  {
   "cell_type": "code",
   "execution_count": null,
   "id": "3cb0a568-6eb7-42b0-81c0-8ff56fc35734",
   "metadata": {},
   "outputs": [],
   "source": []
  },
  {
   "cell_type": "code",
   "execution_count": null,
   "id": "1fac3956-6d50-4ae8-84f0-ef10b636d70d",
   "metadata": {},
   "outputs": [],
   "source": []
  }
 ],
 "metadata": {
  "kernelspec": {
   "display_name": "Python 3 (ipykernel)",
   "language": "python",
   "name": "python3"
  },
  "language_info": {
   "codemirror_mode": {
    "name": "ipython",
    "version": 3
   },
   "file_extension": ".py",
   "mimetype": "text/x-python",
   "name": "python",
   "nbconvert_exporter": "python",
   "pygments_lexer": "ipython3",
   "version": "3.10.6"
  }
 },
 "nbformat": 4,
 "nbformat_minor": 5
}
